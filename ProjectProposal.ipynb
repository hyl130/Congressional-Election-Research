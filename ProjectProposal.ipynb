{
 "cells": [
  {
   "cell_type": "markdown",
   "metadata": {},
   "source": [
    "# COGS 108 - Final Project Proposal"
   ]
  },
  {
   "cell_type": "markdown",
   "metadata": {},
   "source": [
    "# Names\n",
    "\n",
    "- Muhammad Imran\n",
    "- Hyunjo Lee\n",
    "- Jaehoon Choi\n",
    "- Maya Que\n",
    "- Yiliang Yuan"
   ]
  },
  {
   "cell_type": "markdown",
   "metadata": {},
   "source": [
    "# Research Question"
   ]
  },
  {
   "cell_type": "markdown",
   "metadata": {},
   "source": [
    "*Is there a relationship between the recent trend in a president’s approval rate and the number of seats their party wins / loses in an election (within the swing states)?*"
   ]
  },
  {
   "cell_type": "markdown",
   "metadata": {},
   "source": [
    "## Background and Prior Work"
   ]
  },
  {
   "cell_type": "markdown",
   "metadata": {},
   "source": [
    "For the 2020 presidential election, we saw the defeat of Donald Trump in the election, and up to his loss, we could see a down trend in his approval rate and popularity[^one]. President Trump left his position with the lowest approval rate in history[^two]. This situation begs the question of the correlation between a president’s approval rate and the number of seats their party wins or loses in an election. During each election, the position of each state has been mostly determined due to the party demographic of their population[^three]. However, swing states are much more different due to the volatility of their position for each election, and because of that, they are ever more important during the election process[^four]. The past presidential election also saw an unprecedented shift in the political party of many historically safe states, while some key battleground states made increasingly decisive moves towards one color, suggesting that the political preferences of the electoral map may be shifting[^five]. Future elections may become much more volatile and competitive as it becomes more difficult to predict the election outcomes in pivotal states. Thus, we would like to conduct a deep analysis between the approval rate in swing states and whether the seats gained or lost as a result of the election. \n",
    "\n",
    "[^one]: https://news.gallup.com/poll/203198/presidential-approval-ratings-donald-trump.aspx \n",
    "[^two]: https://fortune.com/2021/01/18/trump-approval-rating-average-popularity/ \n",
    "[^three]: https://www.pewresearch.org/fact-tank/2020/08/05/key-things-to-know-about-election-polling-in-the-united-states/ \n",
    "[^four]: https://www.history.com/news/swing-states-presidential-elections \n",
    "[^five]: https://projects.fivethirtyeight.com/2020-swing-states/ \n"
   ]
  },
  {
   "cell_type": "markdown",
   "metadata": {},
   "source": [
    "# Hypothesis\n"
   ]
  },
  {
   "cell_type": "markdown",
   "metadata": {},
   "source": [
    "*There is a relationship between the recent trend in a president’s approval rate and the number of seats their party wins/loses in an election. If a president as a low approval rate at the time of the midterm election, the party that does not have the presidential office wins more seats in the house. *"
   ]
  },
  {
   "cell_type": "markdown",
   "metadata": {},
   "source": [
    "# Data"
   ]
  },
  {
   "cell_type": "markdown",
   "metadata": {},
   "source": [
    "- Dataset of Demographics of a congressional district with factors such as: income, age, gender, race, education level, etc \n",
    "- Dataset of all election data by congressional district for swing states \n",
    "- Dataset of presidential approval ratings \n"
   ]
  },
  {
   "cell_type": "markdown",
   "metadata": {},
   "source": [
    "# Ethics & Privacy"
   ]
  },
  {
   "cell_type": "markdown",
   "metadata": {},
   "source": [
    "*Any accurate models predicting voter behavior can be used to subvert the democratic process by informing political maneuvers such as gerrymandering and targeted disinformation. \n",
    "For certain districts with minor populations, the demographic results could possibly lose the anonymity of the voters. \n",
    "A prediction on who will win an election can affect how the voters vote, as there is a tendency for voters to vote for who they think will win. \n",
    "We expect our dataset to be reliable and credible because it is from federal and state government sources. However, data presidential approval ratings may be skewed because it only represents those people who respond to the polls, which usually consists of a more opinionated population. Furthermore, presidential approval ratings are typically gathered and released publicly for the media by news corporations and polling organizations. The political affiliation of these organizations, as well as the sampled group (gender, age, socioeconomic status, education level, ethnicity), and sampling method may lead to different types of bias in the approval ratings. Since data collection has evolved over time due to advances in technology, the long term gradual trends in the data over time may also reflect potential inaccuracies. \n",
    "In addition, since our project focuses on looking at the overall trends from pre-existing datasets rather than analyzing participant data from surveys, we do not have to anonymize data by removing personally identifiable information such as names and addresses. Therefore, the privacy of the participants who comprised the survey data was handled by the sources who initially gathered the data that we used. Due to the public nature of our sources, we do not expect to face any ethical issues in putting anyone’s privacy at risk when doing the dataset analysis. \n"
   ]
  },
  {
   "cell_type": "markdown",
   "metadata": {},
   "source": [
    "# Team Expectations "
   ]
  },
  {
   "cell_type": "markdown",
   "metadata": {},
   "source": [
    "* *Communication*\n",
    "Weekly Group meetings in-person at 12pm on Wednesdays \n",
    " Communication outside of weekly meetings are done through Slack \n",
    " Communicate if you’re having a hard time in team \n",
    " 24 hour heads up for any missed meetings or problem meeting deadline \n",
    "* *Meeting Logistics and Expectations*\n",
    "Attend the weekly meetings \n",
    " Review meeting notes if you miss the meeting and provide progress update on Slack \n",
    " Designated person to do meeting notes so there is a person to contact if there is ambiguity \n",
    "Keep each other accountable by staying responsive to group messages, keeping up with deadlines, and actively participating in meetings. \n",
    "Actively participate in weekly meetings by speaking up and show effort by providing ideas and constructive feedback. \n",
    "Create an open and safe environment for everyone to speak their mind. \n",
    "No judging please >: (there are no dumb ideas or comments) \n",
    "Each member is expected to contribute equally and complete assigned tasks on time. \n",
    "Try to finish group assignments a day before they are due. \n",
    "* *Decision Making*\n",
    "Informal and shared leadership \n",
    "Every decision will be made through consensus. \n",
    "Majority vote \n",
    "* *Conflict Resolution*\n",
    "Stay upfront about what we’re feeling and be mindful of other people’s experiences and responsibilities outside of this class \n",
    "Any internal conflicts that arise will be resolved through discussion during meetings. \n",
    "Issues can be brought to a vote by any member. \n",
    "Follow majority vote \n",
    "Address any unresolved issues to the IA/TA or the Instructor \n"
   ]
  },
  {
   "cell_type": "markdown",
   "metadata": {},
   "source": [
    "# Project Timeline Proposal"
   ]
  },
  {
   "cell_type": "markdown",
   "metadata": {},
   "source": [
    "| Meeting Date  | Meeting Time| Completed Before Meeting  | Discuss at Meeting |\n",
    "|---|---|---|---|\n",
    "| 4/20  |  12 PM | Think of some ideas for research topic  | Determine best form of communication; Discuss and decide on final project topic; discuss hypothesis; begin background research | \n",
    "| 4/21  |  12 PM |  Do background research on topic | Discuss ideal dataset(s) and ethics; edit, finalize, and submit proposal; *Project Proposal due 4/22 | \n",
    "| 4/27  | 12 PM  | Search for datasets; Think about practical ways (statistical tools and mathematical models) for doing our research  | Discuss which dataset to use & the possibility and efficiency of each methods we may use   |\n",
    "| 5/4  | 12 PM  | Clean Datasets | Discuss wrangling and possible analytical approaches; Assign group members to lead each specific part; *Checkpoint 1 due on 5/6 |\n",
    "| 5/11  | 12 PM  | Import & Wrangle Data; EDA | Review/Edit wrangling/EDA; Discuss Analysis Plan |\n",
    "| 5/18  | 12 PM  | Finalize wrangling/EDA; Begin Analysis | Discuss/edit Analysis; Complete project check-in; *Checkpoint 2 due on 5/20 |\n",
    "| 5/25  | 12 PM  | Complete analysis; Draft results/conclusion/discussion | Discuss/edit full project |\n",
    "| 6/1  | 12 PM  | Try to finish the project (soft deadline) | Turn in Final Project & Group Project Surveys |\n",
    "| 6/4  | Before 11:59 PM  | Actually finish the project with minor changes (hard deadline) | N/A |\n",
    "| 6/6  | Before 11:59 PM  | ABSOLUTE PROJECT DEADLINE | Final project, final video, team eval survey due |"
   ]
  }
 ],
 "metadata": {
  "kernelspec": {
   "display_name": "Python 3 (ipykernel)",
   "language": "python",
   "name": "python3"
  },
  "language_info": {
   "codemirror_mode": {
    "name": "ipython",
    "version": 3
   },
   "file_extension": ".py",
   "mimetype": "text/x-python",
   "name": "python",
   "nbconvert_exporter": "python",
   "pygments_lexer": "ipython3",
   "version": "3.9.7"
  }
 },
 "nbformat": 4,
 "nbformat_minor": 2
}
